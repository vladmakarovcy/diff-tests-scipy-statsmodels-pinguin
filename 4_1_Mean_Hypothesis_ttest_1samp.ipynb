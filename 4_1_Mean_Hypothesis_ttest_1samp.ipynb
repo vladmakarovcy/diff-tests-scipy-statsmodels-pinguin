{
 "cells": [
  {
   "cell_type": "code",
   "execution_count": 1,
   "id": "1dead218",
   "metadata": {},
   "outputs": [],
   "source": [
    "import numpy as np\n",
    "from scipy import stats"
   ]
  },
  {
   "cell_type": "raw",
   "id": "479ad0b6",
   "metadata": {},
   "source": [
    "Одновыборочный критерий Стьюдента"
   ]
  },
  {
   "cell_type": "code",
   "execution_count": 8,
   "id": "1b9138f4",
   "metadata": {},
   "outputs": [],
   "source": [
    "# исходные данные\n",
    "\n",
    "sample = np.array([98, 104, 97, 97, 101, 100, 99, 101, 99, 98])\n",
    "mu0 = 100"
   ]
  },
  {
   "cell_type": "code",
   "execution_count": 12,
   "id": "1b9c29f9",
   "metadata": {},
   "outputs": [
    {
     "name": "stdout",
     "output_type": "stream",
     "text": [
      "Statistic: -0.8741572761215295 ,  p_value: 0.2023773358698457\n"
     ]
    }
   ],
   "source": [
    "# руками\n",
    "\n",
    "df = len(sample) - 1\n",
    "t = stats.t(df)  # распределение Стьюдента - ?\n",
    "T = df ** 0.5 * (sample.mean() - mu0) / sample.std()\n",
    "P = t.cdf(T)  # Cumulative distribution function  cdf(x, df, loc=0, scale=1) - значение в данной точке\n",
    "\n",
    "print('Statistic:', T, ',  p_value:', P)"
   ]
  },
  {
   "cell_type": "code",
   "execution_count": 4,
   "id": "23525ffd",
   "metadata": {},
   "outputs": [
    {
     "data": {
      "text/plain": [
       "Ttest_1sampResult(statistic=-0.8741572761215296, pvalue=0.40475467173969126)"
      ]
     },
     "execution_count": 4,
     "metadata": {},
     "output_type": "execute_result"
    }
   ],
   "source": [
    "# используем ttest_1samp\n",
    "\n",
    "stats.ttest_1samp(sample, m0)"
   ]
  }
 ],
 "metadata": {
  "kernelspec": {
   "display_name": "Python 3 (ipykernel)",
   "language": "python",
   "name": "python3"
  },
  "language_info": {
   "codemirror_mode": {
    "name": "ipython",
    "version": 3
   },
   "file_extension": ".py",
   "mimetype": "text/x-python",
   "name": "python",
   "nbconvert_exporter": "python",
   "pygments_lexer": "ipython3",
   "version": "3.9.12"
  }
 },
 "nbformat": 4,
 "nbformat_minor": 5
}
