{
 "cells": [
  {
   "cell_type": "code",
   "execution_count": 1,
   "id": "cd2bde05",
   "metadata": {},
   "outputs": [],
   "source": [
    "import numpy as np\n",
    "from scipy import stats"
   ]
  },
  {
   "cell_type": "raw",
   "id": "1220de92",
   "metadata": {},
   "source": [
    "Критерий хи-квадрат для проверки гипотезы о дисперсии нормально распределенной популяции"
   ]
  },
  {
   "cell_type": "code",
   "execution_count": 10,
   "id": "ff5314d8",
   "metadata": {},
   "outputs": [],
   "source": [
    "### задача про то что стандартное отклонение σ не более 5 (данные по акциям понедельно за год)\n",
    "\n",
    "x = np.array([0.25, -1.22, -5.1, -10.41, 0.74, 0.04, 0.92, 9.12, 14.13, -3.73, 7.97, 2.39, 5.28,\n",
    "8.32, 0.31, 1.38, 4.15, 11.13, 4.57, 9.02, 2.19, 2.53, 0.06, 1.28, -1.17, 2.52, 8.47,\n",
    "10.82, -2.74, 13.34, 8.23, -2.01, 2.91, 3.45, -3.34, 9.74, 16.45, 17.0, 0.29, 21.15,\n",
    "3.4, 8.34, 14.31, 0.26, 5.02, 10.72, 10.88, 0.99, 7.43, 13.91, -2.69, 10.51])\n",
    "\n",
    "# предполагаем НОРМАЛЬНОЕ распределение данных наблюдений, но по-хорошему - надо проверять\n",
    "\n",
    "sigma0= 5"
   ]
  },
  {
   "cell_type": "code",
   "execution_count": 11,
   "id": "dceea8b8",
   "metadata": {},
   "outputs": [
    {
     "name": "stdout",
     "output_type": "stream",
     "text": [
      "6.387593591180851\n"
     ]
    }
   ],
   "source": [
    "print(x.std())  # Выборочное стандартное отклонение σ (the standard deviation) = np.sqrt(дисперсия S)"
   ]
  },
  {
   "cell_type": "code",
   "execution_count": 13,
   "id": "28c1edf0",
   "metadata": {},
   "outputs": [
    {
     "name": "stdout",
     "output_type": "stream",
     "text": [
      "Statistic =  83.23475784763313 p_value =  0.002923229166158392\n"
     ]
    }
   ],
   "source": [
    "s2 = x.std() ** 2   # Выборочная дисперсия = Выборочное стандартное отклонение ** 2 = σ ** 2\n",
    "G = (len(x) - 1) * s2 / (sigma0**2)  # наблюдаемое значение статистики критерия\n",
    "df = len(x) - 1\n",
    "chi2 = stats.chi2(df)\n",
    "\n",
    "P = 1 - chi2.cdf(G)  \n",
    "# правостороння т.к. 6.387 - 5 = 1.387 т.е. мы видим, что наша σ > чем заданный уровень отклонения, поэтому видя такие\n",
    "# данные(что разница достаточно большая) за альтернативу берем гипотезу со знаком >, т.е. првостороннюю\n",
    "\n",
    "print('Statistic = ', G, 'p_value = ', P)"
   ]
  },
  {
   "cell_type": "markdown",
   "id": "e6bab7b2",
   "metadata": {},
   "source": [
    "т.к. p_value =  0.0029 < чем 0.05 или 0.01 (когда ошибка 1 рода кажется хуже чем ошибка 2 рода), то Н0 отвергается в пользу альтернативной гипотезы, что стандартное отвклонение > 5"
   ]
  },
  {
   "cell_type": "code",
   "execution_count": 15,
   "id": "635e9d3e",
   "metadata": {},
   "outputs": [
    {
     "data": {
      "text/plain": [
       "0.9970767708338416"
      ]
     },
     "execution_count": 15,
     "metadata": {},
     "output_type": "execute_result"
    }
   ],
   "source": [
    "chi2.cdf(G)  \n",
    "# такая бы была левосторонняя p_value и типа здесь надо принимать Н0 что разницы нет, \n",
    "# но это не так и такой расчет p_value был бы неверен из-за неправильно принятой альтернативной гипотезы"
   ]
  },
  {
   "cell_type": "code",
   "execution_count": 18,
   "id": "82131ac3",
   "metadata": {},
   "outputs": [
    {
     "data": {
      "text/plain": [
       "0.005846458332316784"
      ]
     },
     "execution_count": 18,
     "metadata": {},
     "output_type": "execute_result"
    }
   ],
   "source": [
    "min(2*chi2.cdf(G), 2*(1 - chi2.cdf(G)))  # двусторонняя"
   ]
  }
 ],
 "metadata": {
  "kernelspec": {
   "display_name": "Python 3 (ipykernel)",
   "language": "python",
   "name": "python3"
  },
  "language_info": {
   "codemirror_mode": {
    "name": "ipython",
    "version": 3
   },
   "file_extension": ".py",
   "mimetype": "text/x-python",
   "name": "python",
   "nbconvert_exporter": "python",
   "pygments_lexer": "ipython3",
   "version": "3.9.12"
  }
 },
 "nbformat": 4,
 "nbformat_minor": 5
}
