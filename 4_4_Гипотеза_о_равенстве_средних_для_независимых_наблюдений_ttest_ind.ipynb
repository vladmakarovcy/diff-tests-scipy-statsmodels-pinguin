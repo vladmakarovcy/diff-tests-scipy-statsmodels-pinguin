{
 "cells": [
  {
   "cell_type": "code",
   "execution_count": 1,
   "id": "4bd7bc3f",
   "metadata": {},
   "outputs": [],
   "source": [
    "import numpy as np\n",
    "from scipy import stats"
   ]
  },
  {
   "cell_type": "raw",
   "id": "0d406e5e",
   "metadata": {},
   "source": [
    "Двухвыборочный критерий Стьюдента для независимых выборок"
   ]
  },
  {
   "cell_type": "code",
   "execution_count": 2,
   "id": "d2cb3de7",
   "metadata": {},
   "outputs": [],
   "source": [
    "# исходные данные\n",
    "\n",
    "x = np.array([30,28,46,42,35,33,44,43,31,38])\n",
    "y = np.array([26,38,39,28,30,27,32,35])"
   ]
  },
  {
   "cell_type": "code",
   "execution_count": 9,
   "id": "69672163",
   "metadata": {},
   "outputs": [
    {
     "name": "stdout",
     "output_type": "stream",
     "text": [
      "Statistic: 2.0082723389524344 ,  p_value: 0.030901843780302585\n"
     ]
    }
   ],
   "source": [
    "# руками\n",
    "\n",
    "m = x.size\n",
    "n = y.size\n",
    "\n",
    "s2x = x.std() ** 2   # дисперсия\n",
    "s2y = y.std() ** 2\n",
    "\n",
    "T = (x.mean() - y.mean()) / (s2x / m + s2y / n) ** 0.5\n",
    "# T = (x.mean() - y.mean()) / (s2x / (m-1) + s2y / (n-1)) ** 0.5   # так совпадает с ttest_ind\n",
    "\n",
    "df = round((s2x / m + s2y / n) ** 2 / ((s2x / m) ** 2 / (m - 1) + (s2y / n) ** 2 / (n - 1)))\n",
    "\n",
    "t = stats.t(df)     # распределение Стьюдента с df степеней свободы\n",
    "           \n",
    "P = 1 - t.cdf(T)   # правостороння альтернатива\n",
    "\n",
    "print('Statistic:', T, ',  p_value:', P)"
   ]
  },
  {
   "cell_type": "code",
   "execution_count": 10,
   "id": "3bf42855",
   "metadata": {},
   "outputs": [
    {
     "data": {
      "text/plain": [
       "Ttest_indResult(statistic=1.8380153152088796, pvalue=0.08469997574875773)"
      ]
     },
     "execution_count": 10,
     "metadata": {},
     "output_type": "execute_result"
    }
   ],
   "source": [
    "# используем ttest_ind\n",
    "\n",
    "stats.ttest_ind(x, y) # двустороння альтернатива, equal_var= True"
   ]
  },
  {
   "cell_type": "raw",
   "id": "df1c301c",
   "metadata": {},
   "source": [
    "pvalue = 0.0846999 != 0.0309018 * 2, т.к. equal_var= True по-умолчанию (equal population variances)"
   ]
  },
  {
   "cell_type": "code",
   "execution_count": null,
   "id": "bf1c1ef8",
   "metadata": {},
   "outputs": [],
   "source": []
  },
  {
   "cell_type": "code",
   "execution_count": 11,
   "id": "df04c8a4",
   "metadata": {},
   "outputs": [
    {
     "data": {
      "text/plain": [
       "Ttest_indResult(statistic=1.8938964781697485, pvalue=0.07647309062791169)"
      ]
     },
     "execution_count": 11,
     "metadata": {},
     "output_type": "execute_result"
    }
   ],
   "source": [
    "# perform Welch’s t-test\n",
    "\n",
    "stats.ttest_ind(x, y, equal_var= False) "
   ]
  },
  {
   "cell_type": "code",
   "execution_count": 12,
   "id": "2a45a916",
   "metadata": {},
   "outputs": [
    {
     "name": "stdout",
     "output_type": "stream",
     "text": [
      "0.06180368756060517\n"
     ]
    }
   ],
   "source": [
    "print(0.030901843780302585 * 2)"
   ]
  }
 ],
 "metadata": {
  "kernelspec": {
   "display_name": "Python 3 (ipykernel)",
   "language": "python",
   "name": "python3"
  },
  "language_info": {
   "codemirror_mode": {
    "name": "ipython",
    "version": 3
   },
   "file_extension": ".py",
   "mimetype": "text/x-python",
   "name": "python",
   "nbconvert_exporter": "python",
   "pygments_lexer": "ipython3",
   "version": "3.9.12"
  }
 },
 "nbformat": 4,
 "nbformat_minor": 5
}
